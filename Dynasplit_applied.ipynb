{
 "cells": [
  {
   "cell_type": "code",
   "execution_count": 1,
   "id": "14aed08e",
   "metadata": {},
   "outputs": [
    {
     "name": "stderr",
     "output_type": "stream",
     "text": [
      "/opt/anaconda3/envs/Fresh/lib/python3.12/site-packages/tqdm/auto.py:21: TqdmWarning: IProgress not found. Please update jupyter and ipywidgets. See https://ipywidgets.readthedocs.io/en/stable/user_install.html\n",
      "  from .autonotebook import tqdm as notebook_tqdm\n"
     ]
    }
   ],
   "source": [
    "import Dynasplit as ds\n",
    "import MDAnalysis as mda\n",
    "import numpy as np"
   ]
  },
  {
   "cell_type": "code",
   "execution_count": 8,
   "id": "f8d8a757",
   "metadata": {},
   "outputs": [
    {
     "name": "stderr",
     "output_type": "stream",
     "text": [
      "/opt/anaconda3/envs/Fresh/lib/python3.12/site-packages/MDAnalysis/coordinates/DCD.py:165: DeprecationWarning: DCDReader currently makes independent timesteps by copying self.ts while other readers update self.ts inplace. This behavior will be changed in 3.0 to be the same as other readers. Read more at https://github.com/MDAnalysis/mdanalysis/issues/3889 to learn if this change in behavior might affect you.\n",
      "  warnings.warn(\"DCDReader currently makes independent timesteps\"\n"
     ]
    }
   ],
   "source": [
    "u =mda.Universe('../290k_end.data','./sampled_100_frames.dcd')#,format = 'LAMMPSDUMP')\n",
    "\n",
    "dimensions = u.dimensions[0:3]"
   ]
  },
  {
   "cell_type": "code",
   "execution_count": 3,
   "id": "4551dcc1",
   "metadata": {},
   "outputs": [
    {
     "name": "stderr",
     "output_type": "stream",
     "text": [
      "Centering molecules: 100it [00:00, 990.83it/s]\n"
     ]
    }
   ],
   "source": [
    "splitter = ds.Dynasplit(u)\n",
    "splitter.decompose()"
   ]
  },
  {
   "cell_type": "code",
   "execution_count": 4,
   "id": "36fbc003",
   "metadata": {},
   "outputs": [
    {
     "name": "stderr",
     "output_type": "stream",
     "text": [
      "Centering molecules: 100it [00:04, 23.51it/s]\n"
     ]
    }
   ],
   "source": [
    "slower = ds.Dynasplit(u)\n",
    "slower.decompose(slower=True,atom_types='type 1 2 3 4 5 6 7 8 9 10 11 12')\n"
   ]
  },
  {
   "cell_type": "code",
   "execution_count": 15,
   "id": "a979a48f",
   "metadata": {},
   "outputs": [
    {
     "data": {
      "text/plain": [
       "True"
      ]
     },
     "execution_count": 15,
     "metadata": {},
     "output_type": "execute_result"
    }
   ],
   "source": [
    "(np.isclose(slower.rot_traj % dimensions,splitter.rot_traj % dimensions, atol=5e-05)).all()"
   ]
  },
  {
   "cell_type": "code",
   "execution_count": 16,
   "id": "f9392b0d",
   "metadata": {},
   "outputs": [
    {
     "data": {
      "text/plain": [
       "True"
      ]
     },
     "execution_count": 16,
     "metadata": {},
     "output_type": "execute_result"
    }
   ],
   "source": [
    "(np.isclose(slower.trans_traj % dimensions,splitter.trans_traj % dimensions, atol=5e-05)).all()"
   ]
  },
  {
   "cell_type": "code",
   "execution_count": null,
   "id": "051aab91",
   "metadata": {},
   "outputs": [],
   "source": []
  }
 ],
 "metadata": {
  "kernelspec": {
   "display_name": "Fresh",
   "language": "python",
   "name": "python3"
  },
  "language_info": {
   "codemirror_mode": {
    "name": "ipython",
    "version": 3
   },
   "file_extension": ".py",
   "mimetype": "text/x-python",
   "name": "python",
   "nbconvert_exporter": "python",
   "pygments_lexer": "ipython3",
   "version": "3.12.9"
  }
 },
 "nbformat": 4,
 "nbformat_minor": 5
}
