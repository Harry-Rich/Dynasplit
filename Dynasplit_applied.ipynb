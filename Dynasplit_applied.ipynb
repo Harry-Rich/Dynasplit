{
 "cells": [
  {
   "cell_type": "code",
   "execution_count": null,
   "id": "14aed08e",
   "metadata": {},
   "outputs": [],
   "source": [
    "import Dynasplit as ds\n",
    "import MDAnalysis as mda\n",
    "import numpy as np"
   ]
  },
  {
   "cell_type": "markdown",
   "id": "1d98e4b0",
   "metadata": {},
   "source": [
    "# Load an example Universe"
   ]
  },
  {
   "cell_type": "code",
   "execution_count": null,
   "id": "f8d8a757",
   "metadata": {},
   "outputs": [],
   "source": [
    "u =mda.Universe('./test_traj/290k_end.data','./test_traj/sampled_100_frames.dcd')"
   ]
  },
  {
   "cell_type": "markdown",
   "id": "1ff6db6a",
   "metadata": {},
   "source": [
    "## Create an instance of the Dynnasplit class with the universe"
   ]
  },
  {
   "cell_type": "code",
   "execution_count": null,
   "id": "4551dcc1",
   "metadata": {},
   "outputs": [],
   "source": [
    "splitter = ds.Dynasplit(u)\n",
    "\n",
    "fast = ds.Dynasplit(u)"
   ]
  },
  {
   "cell_type": "code",
   "execution_count": null,
   "id": "b3b096c0",
   "metadata": {},
   "outputs": [],
   "source": [
    "u.atoms.types"
   ]
  },
  {
   "cell_type": "code",
   "execution_count": null,
   "id": "a3e3c55a",
   "metadata": {},
   "outputs": [],
   "source": [
    "splitter.calc_com(slower=True,atom_types='type 1 2 3 4 5 6 7 8')\n",
    "\n",
    "fast.calc_com()"
   ]
  },
  {
   "cell_type": "code",
   "execution_count": null,
   "id": "a1302c70",
   "metadata": {},
   "outputs": [],
   "source": [
    "np.where(np.isclose(fast.com_array,splitter.com_array,atol = 1e-6)==False)"
   ]
  },
  {
   "cell_type": "code",
   "execution_count": null,
   "id": "a2650f21",
   "metadata": {},
   "outputs": [],
   "source": [
    "splitter.com_array[2,620]"
   ]
  },
  {
   "cell_type": "code",
   "execution_count": null,
   "id": "b4050f8a",
   "metadata": {},
   "outputs": [],
   "source": [
    "fast.com_array[2,620]"
   ]
  },
  {
   "cell_type": "code",
   "execution_count": null,
   "id": "ef1ea3ca",
   "metadata": {},
   "outputs": [],
   "source": [
    "np.all(np.isclose(fast.com_array,splitter.com_array,rtol=1e-2))"
   ]
  },
  {
   "cell_type": "markdown",
   "id": "e87526fd",
   "metadata": {},
   "source": [
    "## The main feature of the class is decompose which produces an independent rotational and translational trajectory."
   ]
  },
  {
   "cell_type": "markdown",
   "id": "255e4be1",
   "metadata": {},
   "source": [
    "It can be called with .decompose(), if the indices and masses information is stored in the universe then no parameters are required, but specific indices and masses can be input. Currently only trajectories of the same molecules are supported."
   ]
  },
  {
   "cell_type": "code",
   "execution_count": null,
   "id": "0a9e4095",
   "metadata": {},
   "outputs": [],
   "source": [
    "u.trajectory[0].dimensions[0:3]"
   ]
  },
  {
   "cell_type": "code",
   "execution_count": null,
   "id": "3d5c9ec0",
   "metadata": {},
   "outputs": [],
   "source": [
    " 3.7728662 / 47.7"
   ]
  },
  {
   "cell_type": "code",
   "execution_count": null,
   "id": "fdf5dd59",
   "metadata": {},
   "outputs": [],
   "source": [
    "splitter.decompose()\n"
   ]
  },
  {
   "cell_type": "markdown",
   "id": "0a86172a",
   "metadata": {},
   "source": [
    "Alternatively indices and masses can be specified as numpy arrays, both indices and masses should be shape (n_molecules, n_atoms_per_molecule). "
   ]
  },
  {
   "cell_type": "code",
   "execution_count": null,
   "id": "5163a700",
   "metadata": {},
   "outputs": [],
   "source": [
    "indices = np.arange(0,8748,1).reshape(-1,12)\n",
    "indices.shape"
   ]
  },
  {
   "cell_type": "code",
   "execution_count": null,
   "id": "b081c1df",
   "metadata": {},
   "outputs": [],
   "source": [
    "indices = np.arange(0,8748,1).reshape(-1,12)\n",
    "masses = np.tile(np.array([12,12,12,12,12,12,1,1,1,1,1,1]),(729,1))\n",
    "splitter.decompose(indices=indices,masses=masses)"
   ]
  },
  {
   "cell_type": "markdown",
   "id": "67f2d27d",
   "metadata": {},
   "source": [
    "Alternatively MDAnalaysis can be used in which case only the atom types need to specified, in which case bond information is required"
   ]
  },
  {
   "cell_type": "code",
   "execution_count": null,
   "id": "36fbc003",
   "metadata": {},
   "outputs": [],
   "source": [
    "splitter.decompose(slower=True,atom_types='type 1 2 3 4 5 6 7 8 9 10 11 12')\n"
   ]
  }
 ],
 "metadata": {
  "kernelspec": {
   "display_name": "Fresh",
   "language": "python",
   "name": "python3"
  },
  "language_info": {
   "codemirror_mode": {
    "name": "ipython",
    "version": 3
   },
   "file_extension": ".py",
   "mimetype": "text/x-python",
   "name": "python",
   "nbconvert_exporter": "python",
   "pygments_lexer": "ipython3",
   "version": "3.12.9"
  }
 },
 "nbformat": 4,
 "nbformat_minor": 5
}
